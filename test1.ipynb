{
 "cells": [
  {
   "attachments": {},
   "cell_type": "markdown",
   "metadata": {},
   "source": [
    "### Image"
   ]
  },
  {
   "cell_type": "code",
   "execution_count": null,
   "metadata": {},
   "outputs": [],
   "source": [
    "import cv2\n",
    "import numpy as np \n",
    "from matplotlib import pyplot as plt\n",
    "\n",
    "img = cv2.imread('/home/robotic/Pictures/1.jpg')\n",
    "img = cv2.cvtColor(img, cv2.COLOR_BGR2GRAY)\n",
    "img = cv2.bitwise_not(img)"
   ]
  },
  {
   "cell_type": "code",
   "execution_count": 85,
   "metadata": {},
   "outputs": [],
   "source": [
    "kernel = np.ones((20,20), np.uint8)\n",
    "img_dil = cv2.dilate(img, kernel, iterations=1)\n",
    "img_dil = (img_dil*0.5).astype(np.uint8)\n",
    "img_res = cv2.add(img, img_dil)\n",
    "\n",
    "\n",
    "kernel1 = np.ones((40,40), np.uint8)\n",
    "img_dil1 = cv2.dilate(img, kernel1, iterations=1)\n",
    "img_dil1 = (img_dil1*0.3).astype(np.uint8)\n",
    "img_res = cv2.add(img_res, img_dil1)\n",
    "\n",
    "kernel2 = np.ones((80,80), np.uint8)\n",
    "img_dil2 = cv2.dilate(img, kernel2, iterations=1)\n",
    "img_dil2 = (img_dil2*0.1).astype(np.uint8)\n",
    "img_res = cv2.add(img_res, img_dil2)"
   ]
  },
  {
   "cell_type": "markdown",
   "metadata": {},
   "source": [
    "### DBSCAN"
   ]
  },
  {
   "cell_type": "code",
   "execution_count": 180,
   "metadata": {},
   "outputs": [],
   "source": [
    "img = cv2.imread('/home/robotic/Pictures/1.jpg')\n",
    "img = cv2.cvtColor(img, cv2.COLOR_BGR2GRAY)\n",
    "img = cv2.bitwise_not(img)\n",
    "\n",
    "gray = img\n",
    "blur = cv2.blur(gray, (3, 3)) # blur the image\n",
    "ret, thresh = cv2.threshold(blur, 50, 255, cv2.THRESH_BINARY)"
   ]
  },
  {
   "cell_type": "code",
   "execution_count": 183,
   "metadata": {},
   "outputs": [
    {
     "data": {
      "text/plain": [
       "array([  0, 255], dtype=uint8)"
      ]
     },
     "execution_count": 183,
     "metadata": {},
     "output_type": "execute_result"
    }
   ],
   "source": [
    "np.unique(thresh)"
   ]
  },
  {
   "cell_type": "code",
   "execution_count": 209,
   "metadata": {},
   "outputs": [],
   "source": [
    "from sklearn.cluster import DBSCAN\n",
    "\n",
    "x = np.where(thresh==255)\n",
    "X = np.vstack((x[0], x[1])).T\n",
    "\n",
    "output = DBSCAN(eps=10, min_samples=2).fit(X)"
   ]
  },
  {
   "cell_type": "code",
   "execution_count": 210,
   "metadata": {},
   "outputs": [
    {
     "data": {
      "text/plain": [
       "(18817,)"
      ]
     },
     "execution_count": 210,
     "metadata": {},
     "output_type": "execute_result"
    }
   ],
   "source": [
    "set(output.labels_)\n",
    "x[1].shape"
   ]
  },
  {
   "cell_type": "code",
   "execution_count": 211,
   "metadata": {},
   "outputs": [
    {
     "data": {
      "text/plain": [
       "(18817, 2)"
      ]
     },
     "execution_count": 211,
     "metadata": {},
     "output_type": "execute_result"
    }
   ],
   "source": [
    "output.labels_\n",
    "X.shape"
   ]
  },
  {
   "cell_type": "code",
   "execution_count": 303,
   "metadata": {},
   "outputs": [
    {
     "data": {
      "text/plain": [
       "<matplotlib.image.AxesImage at 0x7fb863fffc50>"
      ]
     },
     "execution_count": 303,
     "metadata": {},
     "output_type": "execute_result"
    },
    {
     "data": {
      "image/png": "[encoded data removed]",
      "text/plain": [
       "<Figure size 432x288 with 1 Axes>"
      ]
     },
     "metadata": {
      "needs_background": "light"
     },
     "output_type": "display_data"
    }
   ],
   "source": [
    "tmp_img = np.zeros((600,1000)).astype(np.uint8)\n",
    "x1 = X[np.where(output.labels_==1), :][0]\n",
    "for xy in x1:\n",
    "    tmp_img[xy[0], xy[1]] = 255\n",
    "\n",
    "plt.imshow(tmp_img, cmap='gray')\n",
    "\n",
    "contours, hierarchy = cv2.findContours(tmp_img, cv2.RETR_EXTERNAL, cv2.CHAIN_APPROX_SIMPLE)\n",
    "\n",
    "img_show = np.zeros((600,1000), dtype=np.uint8)\n",
    "img_show = cv2.drawContours(img_show, contours, -1, 125, 3)\n",
    "\n",
    "hull = cv2.convexHull(contours[0])\n",
    "img_show = cv2.drawContours(img_show, [hull], -1, 255, 3)\n",
    "plt.imshow(img_show)"
   ]
  },
  {
   "attachments": {},
   "cell_type": "markdown",
   "metadata": {},
   "source": [
    "### Lidar point"
   ]
  },
  {
   "cell_type": "code",
   "execution_count": 107,
   "metadata": {},
   "outputs": [
    {
     "data": {
      "text/plain": [
       "(227, 2)"
      ]
     },
     "execution_count": 107,
     "metadata": {},
     "output_type": "execute_result"
    }
   ],
   "source": [
    "import numpy as np \n",
    "from matplotlib import pyplot as plt\n",
    "from matplotlib.patches import Ellipse\n",
    "import matplotlib.transforms as transforms\n",
    "from sklearn.cluster import DBSCAN\n",
    "import cv2\n",
    "from sklearn.linear_model import LinearRegression\n",
    "import time\n",
    "\n",
    "data = np.load('data.npy', allow_pickle=True)\n",
    "X = []\n",
    "rads = np.linspace(0,2*np.pi,1972)\n",
    "for i,rad in enumerate(rads):\n",
    "    if data[i] < 4:\n",
    "        # X.append([data[i], rad])\n",
    "        X.append([data[i]*np.cos(rad), data[i]*np.sin(rad)])\n",
    "X = np.array(X)\n",
    "X.shape"
   ]
  },
  {
   "cell_type": "code",
   "execution_count": 180,
   "metadata": {},
   "outputs": [
    {
     "name": "stdout",
     "output_type": "stream",
     "text": [
      "0.0019431114196777344\n"
     ]
    },
    {
     "data": {
      "image/png": "[encoded data removed]",
      "text/plain": [
       "<Figure size 432x288 with 1 Axes>"
      ]
     },
     "metadata": {
      "needs_background": "light"
     },
     "output_type": "display_data"
    }
   ],
   "source": [
    "t1 = time.time()\n",
    "clus = DBSCAN(eps=0.5, min_samples=5).fit(X).labels_\n",
    "print(time.time() -t1)\n",
    "fig, ax = plt.subplots()\n",
    "ax.set(xlim=(-4,4), xticks=np.arange(-4,4),\n",
    "       ylim=(-4,4), yticks=np.arange(-4,4))\n",
    "for id in set(clus):\n",
    "    Xi = X[np.where(clus==id)]\n",
    "    ax.scatter(Xi[:,0], Xi[:,1])\n",
    "plt.show()"
   ]
  },
  {
   "cell_type": "code",
   "execution_count": 171,
   "metadata": {},
   "outputs": [
    {
     "name": "stdout",
     "output_type": "stream",
     "text": [
      "0.004366874694824219\n"
     ]
    },
    {
     "data": {
      "image/png": "[encoded data removed]",
      "text/plain": [
       "<Figure size 432x288 with 1 Axes>"
      ]
     },
     "metadata": {
      "needs_background": "light"
     },
     "output_type": "display_data"
    }
   ],
   "source": [
    "def find_hull(xy, scale=100, lim=400):\n",
    "    xy_ = np.int32(xy*scale)+lim\n",
    "    img = np.zeros((2*lim,2*lim)).astype(np.uint8)\n",
    "    img[xy_[:,1], xy_[:,0]] = 255\n",
    "    # img = cv2.flip(img, 0)\n",
    "\n",
    "    kernel = np.ones((5,5))\n",
    "    img = cv2.dilate(img, kernel, iterations=1)\n",
    "    kernel = np.ones((3,3))\n",
    "    img = cv2.erode(img, kernel, iterations=1)\n",
    "\n",
    "    contours, hierarchy = cv2.findContours(img, cv2.RETR_EXTERNAL, cv2.CHAIN_APPROX_SIMPLE)\n",
    "    if len(contours) > 1:\n",
    "        print('num of contour', len(contours))\n",
    "    # img_show = cv2.drawContours(img.copy(), contours, -1, 255, 3)\n",
    "    hull = cv2.convexHull(contours[0])\n",
    "    # img_show = cv2.drawContours(img.copy(), [hull], -1, 255, 3)\n",
    "    hull = hull.reshape((-1,2))\n",
    "    hull = (hull-lim)/scale\n",
    "    return hull\n",
    "\n",
    "def find_circle(xy):\n",
    "    center = np.mean(xy, axis=0)\n",
    "    dist = np.linalg.norm(xy-center, axis=1)\n",
    "    r = np.max(dist)\n",
    "    return center, r\n",
    "\n",
    "def hull2ellipse(hull, n_std=2.0):\n",
    "    cov = np.cov(hull[:,0], hull[:,1])\n",
    "    pearson = cov[0, 1]/np.sqrt(cov[0, 0] * cov[1, 1])\n",
    "    ell_radius_x = np.sqrt(1 + pearson)\n",
    "    ell_radius_y = np.sqrt(1 - pearson)\n",
    "    ellipse = Ellipse((0, 0), width=ell_radius_x * 2, height=ell_radius_y * 2, fill=False)\n",
    "\n",
    "    scale_x = np.sqrt(cov[0, 0]) * n_std\n",
    "    scale_y = np.sqrt(cov[1, 1]) * n_std\n",
    "    mean_x, mean_y = np.mean(hull, axis=0)\n",
    "\n",
    "    transf = transforms.Affine2D() \\\n",
    "        .rotate_deg(45) \\\n",
    "        .scale(scale_x, scale_y) \\\n",
    "        .translate(mean_x, mean_y)\n",
    "\n",
    "    ellipse.set_transform(transf + ax.transData)\n",
    "\n",
    "    return ellipse\n",
    "\n",
    "fig, ax = plt.subplots()\n",
    "ax.set(xlim=(-4,4), xticks=np.arange(-4,4),\n",
    "        ylim=(-4,4), yticks=np.arange(-4,4))\n",
    "\n",
    "t1 = time.time()\n",
    "for i in set(clus):\n",
    "    xy = X[np.where(clus==i)]\n",
    "    ax.scatter(xy[:,0], xy[:,1])\n",
    "    # hull = find_hull(xy)\n",
    "\n",
    "    # ax.scatter(hull[:,0], hull[:,1])\n",
    "    # ax.plot(hull[:,0], hull[:,1])\n",
    "\n",
    "    # center ,r = find_circle(hull)\n",
    "    # print(r)\n",
    "    # cir = plt.Circle(center, r, fill=False)\n",
    "    # ax.add_patch(cir)\n",
    "\n",
    "    # center = np.mean(hull, axis=0)\n",
    "    # ax.scatter(center[0], center[1])\n",
    "\n",
    "    ellipse = hull2ellipse(xy, n_std=2.0)\n",
    "    ax.add_patch(ellipse)\n",
    "    # break\n",
    "print(time.time() - t1)\n",
    "plt.show()"
   ]
  },
  {
   "cell_type": "code",
   "execution_count": 70,
   "metadata": {},
   "outputs": [
    {
     "name": "stdout",
     "output_type": "stream",
     "text": [
      "0.0020165443420410156\n"
     ]
    },
    {
     "data": {
      "text/plain": [
       "[<matplotlib.lines.Line2D at 0x7f97093fec88>]"
      ]
     },
     "execution_count": 70,
     "metadata": {},
     "output_type": "execute_result"
    },
    {
     "data": {
      "image/png": "[encoded data removed]",
      "text/plain": [
       "<Figure size 432x288 with 1 Axes>"
      ]
     },
     "metadata": {
      "needs_background": "light"
     },
     "output_type": "display_data"
    }
   ],
   "source": [
    "fig, ax = plt.subplots()\n",
    "ax.set(xlim=(-4,4), xticks=np.arange(-4,4),\n",
    "        ylim=(-4,4), yticks=np.arange(-4,4))\n",
    "\n",
    "xy = X[np.where(clus==3)]\n",
    "hull = find_hull(xy)\n",
    "regr = LinearRegression()\n",
    "regr.fit(hull[:,0].reshape((-1,1)), hull[:,1].reshape((-1,1)))\n",
    "\n",
    "plt.scatter(hull[:,0], hull[:,1])\n",
    "\n",
    "x_pred = np.linspace(-4,4,100)\n",
    "y_pred = regr.predict(x_pred.reshape(-1,1))\n",
    "plt.plot(x_pred, y_pred)\n"
   ]
  },
  {
   "cell_type": "code",
   "execution_count": null,
   "metadata": {},
   "outputs": [],
   "source": []
  }
 ],
 "metadata": {
  "kernelspec": {
   "display_name": "py36",
   "language": "python",
   "name": "python3"
  },
  "language_info": {
   "codemirror_mode": {
    "name": "ipython",
    "version": 3
   },
   "file_extension": ".py",
   "mimetype": "text/x-python",
   "name": "python",
   "nbconvert_exporter": "python",
   "pygments_lexer": "ipython3",
   "version": "3.6.13"
  },
  "orig_nbformat": 4,
  "vscode": {
   "interpreter": {
    "hash": "45b4338f51010b68375146015d554340e963b0666cce8a6b92b3f9db6b9e1388"
   }
  }
 },
 "nbformat": 4,
 "nbformat_minor": 2
}
