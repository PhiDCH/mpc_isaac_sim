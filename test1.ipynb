{
 "cells": [
  {
   "attachments": {},
   "cell_type": "markdown",
   "metadata": {},
   "source": [
    "### Image"
   ]
  },
  {
   "cell_type": "code",
   "execution_count": null,
   "metadata": {},
   "outputs": [],
   "source": [
    "import cv2\n",
    "import numpy as np \n",
    "from matplotlib import pyplot as plt\n",
    "\n",
    "img = cv2.imread('/home/robotic/Pictures/1.jpg')\n",
    "img = cv2.cvtColor(img, cv2.COLOR_BGR2GRAY)\n",
    "img = cv2.bitwise_not(img)"
   ]
  },
  {
   "cell_type": "code",
   "execution_count": 85,
   "metadata": {},
   "outputs": [],
   "source": [
    "kernel = np.ones((20,20), np.uint8)\n",
    "img_dil = cv2.dilate(img, kernel, iterations=1)\n",
    "img_dil = (img_dil*0.5).astype(np.uint8)\n",
    "img_res = cv2.add(img, img_dil)\n",
    "\n",
    "\n",
    "kernel1 = np.ones((40,40), np.uint8)\n",
    "img_dil1 = cv2.dilate(img, kernel1, iterations=1)\n",
    "img_dil1 = (img_dil1*0.3).astype(np.uint8)\n",
    "img_res = cv2.add(img_res, img_dil1)\n",
    "\n",
    "kernel2 = np.ones((80,80), np.uint8)\n",
    "img_dil2 = cv2.dilate(img, kernel2, iterations=1)\n",
    "img_dil2 = (img_dil2*0.1).astype(np.uint8)\n",
    "img_res = cv2.add(img_res, img_dil2)"
   ]
  },
  {
   "cell_type": "markdown",
   "metadata": {},
   "source": [
    "### DBSCAN"
   ]
  },
  {
   "cell_type": "code",
   "execution_count": 180,
   "metadata": {},
   "outputs": [],
   "source": [
    "img = cv2.imread('/home/robotic/Pictures/1.jpg')\n",
    "img = cv2.cvtColor(img, cv2.COLOR_BGR2GRAY)\n",
    "img = cv2.bitwise_not(img)\n",
    "\n",
    "gray = img\n",
    "blur = cv2.blur(gray, (3, 3)) # blur the image\n",
    "ret, thresh = cv2.threshold(blur, 50, 255, cv2.THRESH_BINARY)"
   ]
  },
  {
   "cell_type": "code",
   "execution_count": 183,
   "metadata": {},
   "outputs": [
    {
     "data": {
      "text/plain": [
       "array([  0, 255], dtype=uint8)"
      ]
     },
     "execution_count": 183,
     "metadata": {},
     "output_type": "execute_result"
    }
   ],
   "source": [
    "np.unique(thresh)"
   ]
  },
  {
   "cell_type": "code",
   "execution_count": 209,
   "metadata": {},
   "outputs": [],
   "source": [
    "from sklearn.cluster import DBSCAN\n",
    "\n",
    "x = np.where(thresh==255)\n",
    "X = np.vstack((x[0], x[1])).T\n",
    "\n",
    "output = DBSCAN(eps=10, min_samples=2).fit(X)"
   ]
  },
  {
   "cell_type": "code",
   "execution_count": 210,
   "metadata": {},
   "outputs": [
    {
     "data": {
      "text/plain": [
       "(18817,)"
      ]
     },
     "execution_count": 210,
     "metadata": {},
     "output_type": "execute_result"
    }
   ],
   "source": [
    "set(output.labels_)\n",
    "x[1].shape"
   ]
  },
  {
   "cell_type": "code",
   "execution_count": 211,
   "metadata": {},
   "outputs": [
    {
     "data": {
      "text/plain": [
       "(18817, 2)"
      ]
     },
     "execution_count": 211,
     "metadata": {},
     "output_type": "execute_result"
    }
   ],
   "source": [
    "output.labels_\n",
    "X.shape"
   ]
  },
  {
   "cell_type": "code",
   "execution_count": 303,
   "metadata": {},
   "outputs": [
    {
     "data": {
      "text/plain": [
       "<matplotlib.image.AxesImage at 0x7fb863fffc50>"
      ]
     },
     "execution_count": 303,
     "metadata": {},
     "output_type": "execute_result"
    },
    {
     "data": {
      "image/png": "[encoded data removed]",
      "text/plain": [
       "<Figure size 432x288 with 1 Axes>"
      ]
     },
     "metadata": {
      "needs_background": "light"
     },
     "output_type": "display_data"
    }
   ],
   "source": [
    "tmp_img = np.zeros((600,1000)).astype(np.uint8)\n",
    "x1 = X[np.where(output.labels_==1), :][0]\n",
    "for xy in x1:\n",
    "    tmp_img[xy[0], xy[1]] = 255\n",
    "\n",
    "plt.imshow(tmp_img, cmap='gray')\n",
    "\n",
    "contours, hierarchy = cv2.findContours(tmp_img, cv2.RETR_EXTERNAL, cv2.CHAIN_APPROX_SIMPLE)\n",
    "\n",
    "img_show = np.zeros((600,1000), dtype=np.uint8)\n",
    "img_show = cv2.drawContours(img_show, contours, -1, 125, 3)\n",
    "\n",
    "hull = cv2.convexHull(contours[0])\n",
    "img_show = cv2.drawContours(img_show, [hull], -1, 255, 3)\n",
    "plt.imshow(img_show)"
   ]
  },
  {
   "attachments": {},
   "cell_type": "markdown",
   "metadata": {},
   "source": [
    "### Lidar point"
   ]
  },
  {
   "cell_type": "code",
   "execution_count": 1,
   "metadata": {},
   "outputs": [
    {
     "data": {
      "text/plain": [
       "(510, 2)"
      ]
     },
     "execution_count": 1,
     "metadata": {},
     "output_type": "execute_result"
    }
   ],
   "source": [
    "import numpy as np \n",
    "data = np.load('data.npy', allow_pickle=True)\n",
    "X = []\n",
    "rads = np.linspace(0,2*np.pi,1972)\n",
    "for i,rad in enumerate(rads):\n",
    "    if data[i] < 2:\n",
    "        # X.append([data[i], rad])\n",
    "        X.append([data[i]*np.cos(rad), data[i]*np.sin(rad)])\n",
    "X = np.array(X)\n",
    "X.shape"
   ]
  },
  {
   "cell_type": "code",
   "execution_count": 19,
   "metadata": {},
   "outputs": [],
   "source": [
    "from matplotlib import pyplot as plt\n",
    "from sklearn.cluster import DBSCAN\n",
    "import cv2"
   ]
  },
  {
   "cell_type": "code",
   "execution_count": 4,
   "metadata": {},
   "outputs": [
    {
     "data": {
      "image/png": "[encoded data removed]",
      "text/plain": [
       "<Figure size 432x288 with 1 Axes>"
      ]
     },
     "metadata": {
      "needs_background": "light"
     },
     "output_type": "display_data"
    }
   ],
   "source": [
    "fig, ax = plt.subplots()\n",
    "ax.scatter(X.T[0], X.T[1])\n",
    "ax.set(xlim=(-2, 2), xticks=np.arange(-2,2),\n",
    "       ylim=(-2, 3), yticks=np.arange(-2,2))\n",
    "plt.show()"
   ]
  },
  {
   "cell_type": "code",
   "execution_count": 7,
   "metadata": {},
   "outputs": [
    {
     "data": {
      "text/plain": [
       "{0, 1, 2, 3}"
      ]
     },
     "execution_count": 7,
     "metadata": {},
     "output_type": "execute_result"
    }
   ],
   "source": [
    "output = DBSCAN(eps=0.5, min_samples=5).fit(X).labels_\n",
    "set(output)"
   ]
  },
  {
   "cell_type": "code",
   "execution_count": 17,
   "metadata": {},
   "outputs": [
    {
     "data": {
      "text/plain": [
       "(93,)"
      ]
     },
     "execution_count": 17,
     "metadata": {},
     "output_type": "execute_result"
    }
   ],
   "source": [
    "X.T[0][np.where(output==1)].shape"
   ]
  },
  {
   "cell_type": "code",
   "execution_count": 10,
   "metadata": {},
   "outputs": [
    {
     "data": {
      "image/png": "[encoded data removed]",
      "text/plain": [
       "<Figure size 432x288 with 1 Axes>"
      ]
     },
     "metadata": {
      "needs_background": "light"
     },
     "output_type": "display_data"
    }
   ],
   "source": [
    "id = 1\n",
    "fig, ax = plt.subplots()\n",
    "ax.scatter(X.T[0][np.where(output==id)], X.T[1][np.where(output==id)])\n",
    "ax.set(xlim=(-2, 2), xticks=np.arange(-2,2),\n",
    "       ylim=(-2, 3), yticks=np.arange(-2,2))\n",
    "plt.show()"
   ]
  },
  {
   "cell_type": "code",
   "execution_count": 24,
   "metadata": {},
   "outputs": [
    {
     "name": "stdout",
     "output_type": "stream",
     "text": [
      "1\n",
      "13\n"
     ]
    },
    {
     "data": {
      "text/plain": [
       "<matplotlib.image.AxesImage at 0x7fe3980ff7f0>"
      ]
     },
     "execution_count": 24,
     "metadata": {},
     "output_type": "execute_result"
    },
    {
     "data": {
      "image/png": "[encoded data removed]",
      "text/plain": [
       "<Figure size 432x288 with 1 Axes>"
      ]
     },
     "metadata": {
      "needs_background": "light"
     },
     "output_type": "display_data"
    }
   ],
   "source": [
    "id = 0\n",
    "scale = 100\n",
    "x_ = np.int32((X.T[0][np.where(output==id)]+2)*100)\n",
    "y_ = np.int32((X.T[1][np.where(output==id)]+2)*100)\n",
    "# x_ = np.int32((X.T[0]+2)*100)\n",
    "# y_ = np.int32((X.T[1]+2)*100)\n",
    "img = np.zeros((400,400)).astype(np.uint8)\n",
    "img[y_,x_] = 255\n",
    "# plt.imshow(cv2.flip(img, 0), cmap='gray')\n",
    "\n",
    "kernel = np.ones((5,5))\n",
    "img = cv2.dilate(img, kernel, iterations=1)\n",
    "kernel = np.ones((4,4))\n",
    "img = cv2.erode(img, kernel, iterations=1)\n",
    "\n",
    "contours, hierarchy = cv2.findContours(img, cv2.RETR_EXTERNAL, cv2.CHAIN_APPROX_SIMPLE)\n",
    "print(len(contours))\n",
    "# img_show = cv2.drawContours(img.copy(), contours, -1, 255, 3)\n",
    "hull = cv2.convexHull(contours[0])\n",
    "print(len(hull))\n",
    "img_show = cv2.drawContours(img.copy(), [hull], -1, 255, 1)\n",
    "plt.imshow(img_show)"
   ]
  },
  {
   "cell_type": "code",
   "execution_count": 30,
   "metadata": {},
   "outputs": [
    {
     "data": {
      "text/plain": [
       "array([[343, 116],\n",
       "       [343, 119],\n",
       "       [337, 186],\n",
       "       [332, 240],\n",
       "       [329, 268],\n",
       "       [328, 275],\n",
       "       [327, 275],\n",
       "       [327, 266],\n",
       "       [330, 230],\n",
       "       [339, 132],\n",
       "       [340, 123],\n",
       "       [341, 117],\n",
       "       [342, 116]], dtype=int32)"
      ]
     },
     "execution_count": 30,
     "metadata": {},
     "output_type": "execute_result"
    }
   ],
   "source": [
    "hull = hull.reshape((-1,2))\n",
    "hull"
   ]
  },
  {
   "cell_type": "code",
   "execution_count": 112,
   "metadata": {},
   "outputs": [
    {
     "data": {
      "text/plain": [
       "[<matplotlib.lines.Line2D at 0x7fe38a8f27f0>]"
      ]
     },
     "execution_count": 112,
     "metadata": {},
     "output_type": "execute_result"
    },
    {
     "data": {
      "image/png": "[encoded data removed]",
      "text/plain": [
       "<Figure size 432x288 with 1 Axes>"
      ]
     },
     "metadata": {
      "needs_background": "light"
     },
     "output_type": "display_data"
    }
   ],
   "source": [
    "plt.scatter(hull[:,0], hull[:,1], color='blue')\n",
    "center = np.mean(hull, axis=0)\n",
    "plt.scatter(center[0], center[1], color='red')\n",
    "a,b,rot = get_ellipse_params(hull-center)\n",
    "elip = draw_ellipse(a, b, 75)\n",
    "plt.plot(elip[:,0]+center[0], elip[:,1]+center[1])\n"
   ]
  },
  {
   "cell_type": "code",
   "execution_count": 82,
   "metadata": {},
   "outputs": [],
   "source": [
    "from numpy import pi, cos, sin\n",
    "\n",
    "def draw_ellipse(a,b,rot):\n",
    "    rot = (rot/360)*pi\n",
    "    t = np.linspace(0,2*pi,100)\n",
    "    R_rot = np.array([[cos(rot), -sin(rot)],[sin(rot), cos(rot)]])\n",
    "    x = a*cos(t)\n",
    "    y = b*sin(t)\n",
    "    xy_rot = np.dot(np.vstack((x,y)).T,R_rot)\n",
    "    return xy_rot"
   ]
  },
  {
   "cell_type": "code",
   "execution_count": 66,
   "metadata": {},
   "outputs": [
    {
     "data": {
      "text/plain": [
       "(40.0, 397.5, 5.34485761295204)"
      ]
     },
     "execution_count": 66,
     "metadata": {},
     "output_type": "execute_result"
    }
   ],
   "source": [
    "from sklearn.linear_model import LinearRegression\n",
    "def get_ellipse_params(points):\n",
    "        ''' Calculate the parameters needed to graph an ellipse around a cluster of points in 2D.\n",
    "\n",
    "            Calculate the height, width and angle of an ellipse to enclose the points in a cluster.\n",
    "            Calculate the width by finding the maximum distance between the x-coordinates of points\n",
    "            in the cluster, and the height by finding the maximum distance between the y-coordinates\n",
    "            in the cluster. Multiple both by a scale factor to give padding around the points when\n",
    "            constructing the ellipse. Calculate the angle by taking the inverse tangent of the\n",
    "            gradient of the regression line. Note that tangent solutions repeat every 180 degrees,\n",
    "            and so to ensure the correct solution has been found for plotting, add a correction\n",
    "            factor of +/- 90 degrees if the magnitude of the angle exceeds 45 degrees.\n",
    "\n",
    "            Args:\n",
    "                points (ndarray): The points in a cluster to enclose with an ellipse, containing n\n",
    "                                  ndarray elements representing each point, each with d elements\n",
    "                                  representing the coordinates for the point.\n",
    "\n",
    "            Returns:\n",
    "                width (float):  The width of the ellipse.\n",
    "                height (float): The height of the ellipse.\n",
    "                angle (float):  The angle of the ellipse in degrees.\n",
    "        '''\n",
    "        if points.ndim == 1:\n",
    "            width, height, angle = 0.1, 0.1, 0\n",
    "            return width, height, angle\n",
    "\n",
    "        else:\n",
    "            SCALE = 2.5\n",
    "            width = np.amax(points[:,0]) - np.amin(points[:,0])\n",
    "            height = np.amax(points[:,1]) - np.amin(points[:,1])\n",
    "            \n",
    "            # Calculate angle\n",
    "            x_reg, y_reg = [[p[0]] for p in points], [[p[1]] for p in points]\n",
    "            grad = LinearRegression().fit(x_reg, y_reg).coef_[0][0]\n",
    "            angle = np.degrees(np.arctan(grad))\n",
    "\n",
    "            # Account for multiple solutions of arctan\n",
    "            if angle < -45: angle += 90\n",
    "            elif angle > 45: angle -= 90\n",
    "\n",
    "            return width*SCALE, height*SCALE, angle\n",
    "\n",
    "elip = get_ellipse_params(hull)\n",
    "elip "
   ]
  },
  {
   "cell_type": "code",
   "execution_count": 37,
   "metadata": {},
   "outputs": [
    {
     "data": {
      "text/plain": [
       "(40.0, 397.5, 5.34485761295204)"
      ]
     },
     "execution_count": 37,
     "metadata": {},
     "output_type": "execute_result"
    }
   ],
   "source": [
    "elip"
   ]
  },
  {
   "cell_type": "code",
   "execution_count": 65,
   "metadata": {},
   "outputs": [
    {
     "data": {
      "image/png": "[encoded data removed]",
      "text/plain": [
       "<Figure size 432x288 with 1 Axes>"
      ]
     },
     "metadata": {
      "needs_background": "light"
     },
     "output_type": "display_data"
    }
   ],
   "source": [
    "from numpy import pi, cos, sin\n",
    "\n",
    "def draw_ellipse(x,y,a,b,rot):\n",
    "    rot = (rot/360)*pi\n",
    "    t = np.linspace(0,2*pi,100)\n",
    "    R_rot = np.array([[cos(rot), -sin(rot)],[sin(rot), cos(rot)]])\n",
    "    x = a*cos(t)\n",
    "    y = b*sin(t)\n",
    "    xy_rot = np.dot(np.vstack((x,y)).T,R_rot)\n",
    "    xy_rot[:,0] += x\n",
    "    xy_rot[:,1] += y\n",
    "    return xy_rot\n",
    "\n",
    "a = 40\n",
    "b = 400\n",
    "t = np.linspace(0, 2*pi, 100)\n",
    "\n",
    "plt.plot(b*cos(t), b*sin(t))\n",
    "\n",
    "x = a*cos(t)\n",
    "y = b*sin(t)\n",
    "\n",
    "t_rot = (5/360)*pi\n",
    "R_rot = np.array([[cos(t_rot), -sin(t_rot)],[sin(t_rot), cos(t_rot)]])\n",
    "\n",
    "xy_rot = np.dot(np.vstack((x,y)).T,R_rot)\n",
    "\n",
    "plt.plot(xy_rot[:,0], xy_rot[:,1], 'r')\n",
    "plt.show()"
   ]
  },
  {
   "cell_type": "code",
   "execution_count": 22,
   "metadata": {},
   "outputs": [],
   "source": [
    "xy = np.vstack((x,y)).T"
   ]
  },
  {
   "cell_type": "code",
   "execution_count": null,
   "metadata": {},
   "outputs": [],
   "source": []
  }
 ],
 "metadata": {
  "kernelspec": {
   "display_name": "py36",
   "language": "python",
   "name": "python3"
  },
  "language_info": {
   "codemirror_mode": {
    "name": "ipython",
    "version": 3
   },
   "file_extension": ".py",
   "mimetype": "text/x-python",
   "name": "python",
   "nbconvert_exporter": "python",
   "pygments_lexer": "ipython3",
   "version": "3.6.13"
  },
  "orig_nbformat": 4,
  "vscode": {
   "interpreter": {
    "hash": "45b4338f51010b68375146015d554340e963b0666cce8a6b92b3f9db6b9e1388"
   }
  }
 },
 "nbformat": 4,
 "nbformat_minor": 2
}
