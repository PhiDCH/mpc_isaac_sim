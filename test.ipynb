{
 "cells": [
  {
   "cell_type": "code",
   "execution_count": 3,
   "metadata": {},
   "outputs": [
    {
     "data": {
      "text/plain": [
       "array([  0, 255], dtype=uint8)"
      ]
     },
     "execution_count": 3,
     "metadata": {},
     "output_type": "execute_result"
    }
   ],
   "source": [
    "from sklearn.cluster import DBSCAN\n",
    "import cv2 \n",
    "import numpy as np \n",
    "from matplotlib import pyplot as plt \n",
    "\n",
    "img = cv2.imread('/home/phidch/Documents/1.png')\n",
    "img = cv2.cvtColor(img, cv2.COLOR_RGB2GRAY)\n",
    "img = cv2.bitwise_not(img)\n",
    "_, img = cv2.threshold(img, 50, 255, cv2.THRESH_BINARY)\n",
    "np.unique(img)"
   ]
  },
  {
   "cell_type": "code",
   "execution_count": 4,
   "metadata": {},
   "outputs": [
    {
     "data": {
      "text/plain": [
       "(907, 2)"
      ]
     },
     "execution_count": 4,
     "metadata": {},
     "output_type": "execute_result"
    }
   ],
   "source": [
    "X = np.where(img==255)\n",
    "X = np.vstack((X[0], X[1])).T\n",
    "X.shape"
   ]
  },
  {
   "cell_type": "code",
   "execution_count": 5,
   "metadata": {},
   "outputs": [
    {
     "data": {
      "text/plain": [
       "{0, 1}"
      ]
     },
     "execution_count": 5,
     "metadata": {},
     "output_type": "execute_result"
    }
   ],
   "source": [
    "output = DBSCAN(eps=30, min_samples=2).fit(X)\n",
    "set(output.labels_)"
   ]
  },
  {
   "cell_type": "code",
   "execution_count": 59,
   "metadata": {},
   "outputs": [
    {
     "name": "stdout",
     "output_type": "stream",
     "text": [
      "(461,)\n"
     ]
    }
   ],
   "source": [
    "tmp_img = np.zeros((600, 1000), dtype=np.uint8)\n",
    "for i in set(output.labels_):\n",
    "    pos = np.where(output.labels_==i)[0]\n",
    "    print(pos.shape)\n",
    "    for j in pos:\n",
    "        tmp_img[X[j][0]][X[j][1]] = 255\n",
    "    break\n",
    "\n",
    "\n",
    "kernel = 30\n",
    "tmp_img = cv2.dilate(tmp_img, np.ones((kernel,kernel), np.uint8), iterations=1)\n",
    "kernel = 20\n",
    "tmp_img = cv2.erode(tmp_img, np.ones((kernel,kernel), np.uint8), iterations=1)\n",
    "contours, hierarchy = cv2.findContours(tmp_img, cv2.RETR_TREE, cv2.CHAIN_APPROX_SIMPLE)\n",
    "hull = cv2.convexHull(contours[0], True)\n",
    "# tmp_img = cv2.drawContours(np.zeros((600, 1000), dtype=np.uint8), contours, -1, 125, 3)\n",
    "tmp_img = cv2.drawContours(np.zeros((600, 1000), dtype=np.uint8), [hull], -1, 255, 3)"
   ]
  },
  {
   "cell_type": "code",
   "execution_count": 60,
   "metadata": {},
   "outputs": [
    {
     "data": {
      "text/plain": [
       "<matplotlib.image.AxesImage at 0x7f4cb969b470>"
      ]
     },
     "execution_count": 60,
     "metadata": {},
     "output_type": "execute_result"
    },
    {
     "data": {
      "image/png": "[encoded data removed]",
      "text/plain": [
       "<Figure size 432x288 with 1 Axes>"
      ]
     },
     "metadata": {
      "needs_background": "light"
     },
     "output_type": "display_data"
    }
   ],
   "source": [
    "plt.imshow(tmp_img)"
   ]
  },
  {
   "cell_type": "code",
   "execution_count": 1,
   "metadata": {},
   "outputs": [],
   "source": [
    "def poligon2centroid(poly_x, poly_y):\n",
    "    x_mean = np.mean(poly_x)\n",
    "    y_mean = np.mean(poly_y)\n",
    "    x = poly_x - x_mean\n",
    "    y = poly_y - y_mean\n",
    "\n",
    "    #create shifted matrix for counter clockwise bounderies\n",
    "    xp = np.append(x[1:], x[0])\n",
    "    yp = np.append(y[1:], y[0])\n",
    "\n",
    "    #calculate the twice signed area of the elementary triangle formed by\n",
    "    #(xi,yi) and (xi+1,yi+1) and the origin.\n",
    "    a = np.dot(x, yp) - np.dot(xp, y)\n",
    "\n",
    "    #Sum of the half of these areas\n",
    "    area = np.sum(a)/2\n",
    "\n",
    "    if area < 0:\n",
    "        area = -area\n",
    "\n",
    "    #calculate centroid of the shifted\n",
    "    xc = np.sum(np.dot((x+xp), a))/(6*area)\n",
    "    yc = np.sum(np.dot((y+yp), a))/(6*area)\n",
    "\n",
    "    #shift back to original place\n",
    "    centroid_x = xc + x_mean\n",
    "    centroid_y = yc + y_mean\n",
    "    centroid_radius = 0\n",
    "\n",
    "    #calculate radius\n",
    "    for k in range(poly_x.shape[0]):\n",
    "        dist = np.linalg.norm(np.array([poly_x[k], poly_y[k]])-np.array([centroid_x, centroid_y]))\n",
    "        if centroid_radius < dist:\n",
    "            centroid_radius = dist\n",
    "    return centroid_x, centroid_y, centroid_radius"
   ]
  },
  {
   "cell_type": "code",
   "execution_count": 63,
   "metadata": {},
   "outputs": [
    {
     "data": {
      "text/plain": [
       "<matplotlib.image.AxesImage at 0x7f4cb95e7ba8>"
      ]
     },
     "execution_count": 63,
     "metadata": {},
     "output_type": "execute_result"
    },
    {
     "data": {
      "image/png": "[encoded data removed]",
      "text/plain": [
       "<Figure size 432x288 with 1 Axes>"
      ]
     },
     "metadata": {
      "needs_background": "light"
     },
     "output_type": "display_data"
    }
   ],
   "source": [
    "poly_x = hull.reshape((-1,2)).T[0]\n",
    "poly_y = hull.reshape((-1,2)).T[1]\n",
    "cenx, ceny, cenr = poligon2centroid(poly_x[1:4], poly_y[1:4])\n",
    "# cenx, ceny, cenr = poligon2centroid(poly_x[0:1], poly_y[0:1])\n",
    "\n",
    "cen_img = tmp_img.copy()\n",
    "cen_img = cv2.circle(tmp_img.copy(), (int(cenx), int(ceny)), int(cenr), 255, 3)\n",
    "plt.imshow(cen_img)"
   ]
  },
  {
   "cell_type": "code",
   "execution_count": 53,
   "metadata": {},
   "outputs": [
    {
     "data": {
      "text/plain": [
       "array([[[629, 209]],\n",
       "\n",
       "       [[830, 385]],\n",
       "\n",
       "       [[830, 398]],\n",
       "\n",
       "       [[810, 401]],\n",
       "\n",
       "       [[785, 402]],\n",
       "\n",
       "       [[755, 403]],\n",
       "\n",
       "       [[739, 403]],\n",
       "\n",
       "       [[687, 401]],\n",
       "\n",
       "       [[636, 399]],\n",
       "\n",
       "       [[616, 398]],\n",
       "\n",
       "       [[610, 275]],\n",
       "\n",
       "       [[610, 262]],\n",
       "\n",
       "       [[611, 219]],\n",
       "\n",
       "       [[616, 209]]], dtype=int32)"
      ]
     },
     "execution_count": 53,
     "metadata": {},
     "output_type": "execute_result"
    }
   ],
   "source": [
    "hull"
   ]
  }
 ],
 "metadata": {
  "kernelspec": {
   "display_name": "py36",
   "language": "python",
   "name": "python3"
  },
  "language_info": {
   "codemirror_mode": {
    "name": "ipython",
    "version": 3
   },
   "file_extension": ".py",
   "mimetype": "text/x-python",
   "name": "python",
   "nbconvert_exporter": "python",
   "pygments_lexer": "ipython3",
   "version": "3.6.13"
  },
  "orig_nbformat": 4,
  "vscode": {
   "interpreter": {
    "hash": "45b4338f51010b68375146015d554340e963b0666cce8a6b92b3f9db6b9e1388"
   }
  }
 },
 "nbformat": 4,
 "nbformat_minor": 2
}
